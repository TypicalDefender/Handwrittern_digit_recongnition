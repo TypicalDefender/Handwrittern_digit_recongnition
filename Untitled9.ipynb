{
 "cells": [
  {
   "cell_type": "code",
   "execution_count": null,
   "metadata": {},
   "outputs": [],
   "source": [
    "import numpy as np\n",
    "from matplotlib import pyplot as plt\n",
    "import pandas as pd"
   ]
  },
  {
   "cell_type": "code",
   "execution_count": 16,
   "metadata": {},
   "outputs": [],
   "source": [
    "df = pd.read_csv(\"C:/Users/Sarthak/Downloads/hepatitisdata.txt\")"
   ]
  },
  {
   "cell_type": "code",
   "execution_count": 15,
   "metadata": {},
   "outputs": [
    {
     "name": "stdout",
     "output_type": "stream",
     "text": [
      "[1 2 1 1 2 1 2 1 2 2 2 1 2 1 1 1 1 1 1 1 2 2 1 2 1 1 1 2 2 2 1]\n",
      "0.5161290322580645\n",
      "[2 2 1 1 1 1 1 1 2 2 2 1 1 2 1 1 1 1 2 1 2 1 2 1 1 1 2 2 1 1 1]\n",
      "0.7419354838709677\n",
      "[1 1 1 1 1 1 1 1 1 2 2 1 1 2 1 1 2 1 1 2 1 1 2 2 1 1 1 2 2 2 2]\n",
      "0.6451612903225806\n",
      "[2 1 1 2 1 1 1 2 1 2 1 1 1 2 1 1 1 1 1 2 1 1 2 1 1 1 1 1 1 1 1]\n",
      "0.6129032258064516\n",
      "[1 1 1 1 2 1 1 1 1 1 1 1 1 1 2 1 1 1 1 1 1 1 2 2 1 1 1 2 1 2 2]\n",
      "0.5806451612903226\n",
      "[1 2 2 1 1 1 2 1 1 1 1 2 1 2 2 2 1 1 1 1 1 2 2 2 2 2 1 2 2 1 2]\n",
      "0.6129032258064516\n",
      "[1 1 1 1 2 2 1 1 1 2 1 1 1 2 2 2 1 2 2 1 1 2 2 2 2 1 2 2 2 1 2]\n",
      "0.7096774193548387\n",
      "[1 1 1 2 1 1 1 1 1 1 2 1 1 1 2 1 1 2 1 2 1 1 1 2 1 1 1 1 2 1 2]\n",
      "0.5483870967741935\n",
      "[1 2 1 1 1 2 1 1 2 1 2 1 1 2 2 1 2 1 2 2 1 1 2 2 2 1 2 2 1 2 1]\n",
      "0.4838709677419355\n"
     ]
    }
   ],
   "source": [
    "X_train = df.iloc[:, :19].values\n",
    "y_train = df.iloc[:, 19].values\n",
    "\n",
    "\n",
    "\n",
    "from sklearn.model_selection import train_test_split as tts\n",
    "\n",
    "\n",
    "\n",
    "from sklearn import svm\n",
    "for i in range(1, 10):\n",
    "     train_feats, test_feats, train_label, test_label = tts(X_train, y_train, test_size = 0.2)\n",
    "     clf = svm.SVC(kernel = 'linear', C = i)\n",
    "     clf.fit(train_feats, train_label)\n",
    "     print(clf.predict(test_feats))\n",
    "     print(clf.score(test_feats, test_label))      \n",
    "\n"
   ]
  },
  {
   "cell_type": "code",
   "execution_count": 13,
   "metadata": {},
   "outputs": [
    {
     "name": "stdout",
     "output_type": "stream",
     "text": [
      "[1 1 2 1 1 1 2 1 2 1 2 1 1 2 1 1 1 2 1 2 1 1 1 1 2 1 2 1 2 1 1]\n"
     ]
    }
   ],
   "source": [
    "predictions = clf.predict(test_feats)\n",
    "print(predictions)"
   ]
  },
  {
   "cell_type": "code",
   "execution_count": 14,
   "metadata": {},
   "outputs": [
    {
     "name": "stdout",
     "output_type": "stream",
     "text": [
      "ACCURACY 0.6451612903225806\n"
     ]
    }
   ],
   "source": [
    "count = 0\n",
    "for i in range(len(predictions)):\n",
    "    if(predictions[i] == test_label[i]):\n",
    "        count+=1\n",
    "print(\"ACCURACY\", count/len(predictions))"
   ]
  },
  {
   "cell_type": "code",
   "execution_count": null,
   "metadata": {},
   "outputs": [],
   "source": []
  },
  {
   "cell_type": "code",
   "execution_count": null,
   "metadata": {},
   "outputs": [],
   "source": []
  },
  {
   "cell_type": "code",
   "execution_count": null,
   "metadata": {},
   "outputs": [],
   "source": []
  }
 ],
 "metadata": {
  "kernelspec": {
   "display_name": "Python 3",
   "language": "python",
   "name": "python3"
  },
  "language_info": {
   "codemirror_mode": {
    "name": "ipython",
    "version": 3
   },
   "file_extension": ".py",
   "mimetype": "text/x-python",
   "name": "python",
   "nbconvert_exporter": "python",
   "pygments_lexer": "ipython3",
   "version": "3.6.7"
  }
 },
 "nbformat": 4,
 "nbformat_minor": 2
}
